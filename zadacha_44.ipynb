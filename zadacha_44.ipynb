{
  "nbformat": 4,
  "nbformat_minor": 0,
  "metadata": {
    "colab": {
      "provenance": []
    },
    "kernelspec": {
      "name": "python3",
      "display_name": "Python 3"
    },
    "language_info": {
      "name": "python"
    }
  },
  "cells": [
    {
      "cell_type": "markdown",
      "source": [
        "## Задача 44\n",
        " В ячейке ниже представлен код генерирующий DataFrame, которая состоит всего из 1 столбца. Ваша задача перевести его в one hot вид. Сможете ли вы это сделать без get_dummies?\n",
        "\n",
        "\n",
        "import random\n",
        "lst = ['robot'] * 10\n",
        "lst += ['human'] * 10\n",
        "random.shuffle(lst)\n",
        "data = pd.DataFrame({'whoAmI':lst})\n",
        "data.head()"
      ],
      "metadata": {
        "id": "FmJC-76HmNOc"
      }
    },
    {
      "cell_type": "code",
      "source": [
        "import pandas as pd\n",
        "import numpy as np\n",
        "import random\n",
        "\n",
        "lst = ['robot'] * 10\n",
        "lst += ['human'] * 10\n",
        "random.shuffle(lst)\n",
        "data = pd.DataFrame({'whoAmI':lst})\n",
        "print(data)\n"
      ],
      "metadata": {
        "colab": {
          "base_uri": "https://localhost:8080/"
        },
        "id": "a6hwfUfZmTRg",
        "outputId": "f8bd965c-9363-4d18-8de9-63008f176f73"
      },
      "execution_count": 67,
      "outputs": [
        {
          "output_type": "stream",
          "name": "stdout",
          "text": [
            "   whoAmI\n",
            "0   human\n",
            "1   robot\n",
            "2   human\n",
            "3   robot\n",
            "4   human\n",
            "5   human\n",
            "6   human\n",
            "7   human\n",
            "8   robot\n",
            "9   robot\n",
            "10  human\n",
            "11  robot\n",
            "12  robot\n",
            "13  robot\n",
            "14  human\n",
            "15  robot\n",
            "16  robot\n",
            "17  robot\n",
            "18  human\n",
            "19  human\n"
          ]
        }
      ]
    },
    {
      "cell_type": "code",
      "source": [
        "data['tmp'] = 1\n",
        "data.set_index([data.index, 'whoAmI'], inplace=True)\n",
        "data = data.unstack(level=-1, fill_value = 0).astype(int)\n",
        "data.columns = data.columns.droplevel()\n",
        "data.columns.name = None\n",
        "print(data)"
      ],
      "metadata": {
        "colab": {
          "base_uri": "https://localhost:8080/"
        },
        "id": "CYcWfjKkqcFi",
        "outputId": "2a1f8351-d84c-4e04-9ee3-3b64cdc52614"
      },
      "execution_count": 68,
      "outputs": [
        {
          "output_type": "stream",
          "name": "stdout",
          "text": [
            "    human  robot\n",
            "0       1      0\n",
            "1       0      1\n",
            "2       1      0\n",
            "3       0      1\n",
            "4       1      0\n",
            "5       1      0\n",
            "6       1      0\n",
            "7       1      0\n",
            "8       0      1\n",
            "9       0      1\n",
            "10      1      0\n",
            "11      0      1\n",
            "12      0      1\n",
            "13      0      1\n",
            "14      1      0\n",
            "15      0      1\n",
            "16      0      1\n",
            "17      0      1\n",
            "18      1      0\n",
            "19      1      0\n"
          ]
        }
      ]
    }
  ]
}